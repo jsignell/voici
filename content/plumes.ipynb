{
  "metadata": {
    "language_info": {
      "codemirror_mode": {
        "name": "python",
        "version": 3
      },
      "file_extension": ".py",
      "mimetype": "text/x-python",
      "name": "python",
      "nbconvert_exporter": "python",
      "pygments_lexer": "ipython3",
      "version": "3.8"
    },
    "kernelspec": {
      "name": "python",
      "display_name": "Python (Pyodide)",
      "language": "python"
    }
  },
  "nbformat_minor": 4,
  "nbformat": 4,
  "cells": [
    {
      "cell_type": "code",
      "source": "%pip install -q ipyleaflet==0.17.3 ipywidgets==8.0.6 jupyterlab_widgets==3.0.7",
      "metadata": {
        "trusted": true
      },
      "execution_count": 1,
      "outputs": []
    },
    {
      "cell_type": "markdown",
      "source": "# Emission Plumes",
      "metadata": {}
    },
    {
      "cell_type": "code",
      "source": "import json\nfrom js import fetch\n\nimport pandas as pd\nimport geopandas as gpd\nimport ipywidgets as widgets\n\nfrom ipyleaflet import Map, TileLayer, GeoData, WidgetControl, LayersControl",
      "metadata": {
        "trusted": true
      },
      "execution_count": 2,
      "outputs": []
    },
    {
      "cell_type": "code",
      "source": "# Download using this URL, then upload to GIST for easy access\nGDRIVE_ID = \"1f9HCtAOUiSDTiesbJrt8E9Oi9wr6e8XT\"\nDOWNLOAD_URL = f\"https://drive.google.com/uc?{GDRIVE_ID}=&export=download\"\n\nGIST_URL = \"https://gist.githubusercontent.com/jsignell/53f6f211a17c2d01a8546e292d800c8a/raw/6de1c6555e9dfb5f127f81ff03603373c1fc52cd/gistfile1.txt\"\n\nasync def get_data(url):\n    response = await fetch(url)\n    text = await response.text()\n    result = json.loads(text)\n    return gpd.GeoDataFrame.from_features(result[\"features\"])\n\ndf = await get_data(GIST_URL)",
      "metadata": {
        "trusted": true
      },
      "execution_count": 3,
      "outputs": []
    },
    {
      "cell_type": "code",
      "source": "# Get the ids for every item in the STAC collection\nSTAC_SEARCH_URL = \"https://dev.ghg.center/api/stac/search?collections=nasa-jpl-plumes-emissions-updated&fields=id&limit=1000\"\n\nresponse = await fetch(STAC_SEARCH_URL)\ntext = await response.text()\nresult = json.loads(text)\n\nitem_ids = pd.json_normalize(result[\"features\"])[\"id\"]",
      "metadata": {
        "trusted": true
      },
      "execution_count": 4,
      "outputs": []
    },
    {
      "cell_type": "code",
      "source": "m = Map(center=(0, 0), zoom=2, scroll_wheel_zoom=True)\nm.layout.min_height=\"800px\"\n\nvectors = GeoData(\n    geo_dataframe=df, \n    name='Vector data',\n    style={\"color\": \"red\"},\n    hover_style={'fillColor': 'red', \"fillOpacity\": 0.5}, \n)\n\n\nout = widgets.Output(layout=widgets.Layout(width=\"800px\"))\n\nstart_date = df[\"UTC Time Observed\"].min().split(\"T\")[0]\nend_date = df[\"UTC Time Observed\"].max().split(\"T\")[0]\n\ndates = [d.date().isoformat() for d in pd.date_range(start_date, end_date, freq='D')]\nindex = (0, len(dates)-1)\n\ndate_range = widgets.SelectionRangeSlider(\n    options=dates,\n    index=index,\n    orientation='horizontal',\n    layout={'width': '300px'},\n    style={'description_width': 'initial'},\n    readout=False\n)\n\nstart_label = widgets.Label(date_range.value[0])\nend_label = widgets.Label(date_range.value[1])\n\ndef filter_data(start, end):\n    global df\n    subset = df[(df[\"UTC Time Observed\"] > start) & (df[\"UTC Time Observed\"] < end)]\n    vectors.data = json.loads(subset.to_json())\n\ndef callback(dts):\n    start = dts[0]\n    end = dts[1]\n    start_label.value = start\n    end_label.value = end\n    filter_data(start, end)\n\nwidgets.interactive_output(\n    callback, \n    {\"dts\": date_range}\n)\n\ndate_range_widget = widgets.HBox([\n    start_label,\n    date_range,\n    end_label,\n])\n\nm.add(vectors)\nm.add(WidgetControl(widget=out, position=\"bottomleft\"))\nm.add(WidgetControl(widget=date_range_widget, position=\"topright\"))\n\ndef display_properties(feature):\n    out.clear_output()\n    p = {k: v for k, v in feature[\"properties\"].items() if k not in [\"style\"]}\n    with out:\n        display(pd.Series(p))\n\ndef add_raster(feature):\n    global item_ids\n    global m\n    \n    props = feature[\"properties\"]\n\n    collection = \"nasa-jpl-plumes-emissions-updated\"\n    items = item_ids[item_ids.str.startswith(props[\"Scene FID\"])]\n    assets = \"ch4-plume-emissions\"\n\n    for item in items:\n        TILE_URL = (\n            'https://dev.ghg.center/api/raster/stac/tiles/WebMercatorQuad/{z}/{x}/{y}@1x'\n            f'?collection={collection}&item={item}&assets={assets}'\n            '&resampling=bilinear&bidx=1&colormap_name=plasma&rescale=1%2C1500&nodata=-9999'\n        )\n        m.add_layer(TileLayer(url=TILE_URL, max_zoom=24, show_loading=True))\n    m.center = (props['Latitude of max concentration'], props['Longitude of max concentration'])\n    m.zoom = 12\n    \ndef set_date_range(feature):\n    global date_range\n    \n    props = feature[\"properties\"]\n    \n    t = pd.Timestamp(props[\"UTC Time Observed\"])\n    date_range.value = ((t - pd.Timedelta(\"1D\")).date().isoformat(), (t + pd.Timedelta(\"1D\")).date().isoformat())\n    \n\ndef on_click(event, feature, **kwargs):\n    display_properties(feature)\n    add_raster(feature)\n    set_date_range(feature)\n\nvectors.on_click(on_click)\nm",
      "metadata": {
        "trusted": true
      },
      "execution_count": 50,
      "outputs": [
        {
          "execution_count": 50,
          "output_type": "execute_result",
          "data": {
            "text/plain": "Map(center=[0, 0], controls=(ZoomControl(options=['position', 'zoom_in_text', 'zoom_in_title', 'zoom_out_text'…",
            "application/vnd.jupyter.widget-view+json": {
              "version_major": 2,
              "version_minor": 0,
              "model_id": "fbb88f7419cd4bd6ab8b550b16d47ee1"
            }
          },
          "metadata": {}
        }
      ]
    }
  ]
}