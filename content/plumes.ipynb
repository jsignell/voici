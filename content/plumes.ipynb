{
  "cells": [
    {
      "cell_type": "code",
      "execution_count": null,
      "metadata": {
        "trusted": true
      },
      "outputs": [],
      "source": [
        "%pip install -q ipyleaflet==0.17.3 ipywidgets==8.0.6 jupyterlab_widgets==3.0.7"
      ]
    },
    {
      "cell_type": "markdown",
      "metadata": {},
      "source": [
        "# EMIT methane point source plume complexes\n",
        "\n",
        "You can learn more about how to access [this data](https://dev.ghg.center/api/stac/collections/nasa-jpl-plumes-emissions-updated) directly in [the VEDA documentation](https://nasa-impact.github.io/veda-docs)."
      ]
    },
    {
      "cell_type": "code",
      "execution_count": 28,
      "metadata": {
        "trusted": true
      },
      "outputs": [],
      "source": [
        "import json\n",
        "from datetime import date, timedelta\n",
        "\n",
        "import ipywidgets as widgets\n",
        "from ipyleaflet import Map, TileLayer, WidgetControl, GeoJSON, ScaleControl"
      ]
    },
    {
      "cell_type": "code",
      "execution_count": 2,
      "metadata": {
        "trusted": true
      },
      "outputs": [],
      "source": [
        "try:\n",
        "    from js import fetch\n",
        "\n",
        "    async def fetch_json(url):\n",
        "        response = await fetch(url)\n",
        "        text = await response.text()\n",
        "        return json.loads(text)\n",
        "except: \n",
        "    import requests\n",
        "\n",
        "    async def fetch_json(url):\n",
        "        return requests.get(url).json()"
      ]
    },
    {
      "cell_type": "code",
      "execution_count": 3,
      "metadata": {},
      "outputs": [],
      "source": [
        "GITHUB_URL = \"https://raw.githubusercontent.com/NASA-IMPACT/veda-interactive-emission-plumes/main/content/Methane Metadata.json\"\n",
        "result = await fetch_json(GITHUB_URL)\n",
        "\n",
        "def set_id(x):\n",
        "    i, f  = x\n",
        "    f[\"id\"] = i\n",
        "    return f\n",
        "\n",
        "outlines = list(map(set_id, enumerate(filter(lambda f: f[\"geometry\"][\"type\"] == \"Polygon\", result[\"features\"]))))\n",
        "centers = list(map(set_id, enumerate(filter(lambda f: f[\"geometry\"][\"type\"] == \"Point\", result[\"features\"]))))"
      ]
    },
    {
      "cell_type": "code",
      "execution_count": 4,
      "metadata": {
        "trusted": true
      },
      "outputs": [],
      "source": [
        "# Get the ids for every item in the STAC collection\n",
        "STAC_SEARCH_URL = \"https://dev.ghg.center/api/stac/search?collections=nasa-jpl-plumes-emissions-updated&fields=id,geometry,properties&limit=1000\"\n",
        "\n",
        "result = await fetch_json(STAC_SEARCH_URL)\n",
        "item_ids = result[\"features\"]"
      ]
    },
    {
      "cell_type": "code",
      "execution_count": 32,
      "metadata": {
        "trusted": true
      },
      "outputs": [
        {
          "data": {
            "application/vnd.jupyter.widget-view+json": {
              "model_id": "7c6d654462d0470da8e19d0891b97368",
              "version_major": 2,
              "version_minor": 0
            },
            "text/plain": [
              "Map(center=[39, -98], controls=(ZoomControl(options=['position', 'zoom_in_text', 'zoom_in_title', 'zoom_out_te…"
            ]
          },
          "execution_count": 32,
          "metadata": {},
          "output_type": "execute_result"
        },
        {
          "data": {
            "image/png": "[encoded data removed]",
            "text/plain": [
              "<Figure size 600x100 with 1 Axes>"
            ]
          },
          "metadata": {},
          "output_type": "display_data"
        }
      ],
      "source": [
        "VMIN = 0\n",
        "VMAX = 1500\n",
        "IDS_ON_MAP = set()\n",
        "\n",
        "m = Map(center=(39, -98), zoom=4, scroll_wheel_zoom=True)\n",
        "m.layout.min_height=\"800px\"\n",
        "\n",
        "polygons = GeoJSON(\n",
        "    data={\"features\": outlines}, \n",
        "    name='outlines',\n",
        "    style={\"color\": \"red\"},\n",
        "    hover_style={'fillColor': 'red', \"fillOpacity\": 0.5},\n",
        ")\n",
        "\n",
        "pins = GeoJSON(\n",
        "    data={\"features\": centers}, \n",
        "    name='centers',\n",
        ")\n",
        "\n",
        "position_label = widgets.Label(layout=widgets.Layout(padding=\"10px\", width=\"160px\"), style={\"background\": \"#ffffff66\"})\n",
        "def handle_interaction(**kwargs):\n",
        "    if kwargs.get('type') == 'mousemove':\n",
        "        lon, lat = kwargs.get('coordinates')\n",
        "        position_label.value = f\"W {round(lat, 4)}, N {round(lon, 4)}\"\n",
        "\n",
        "m.on_interaction(handle_interaction)\n",
        "\n",
        "out = widgets.Output(layout=widgets.Layout(width=\"700px\"))\n",
        "colorbar_widget = widgets.Output(layout=widgets.Layout(width=\"450px\"))\n",
        "\n",
        "# create date range slider and callback for filtering data\n",
        "start_date = date.fromisoformat(centers[0][\"properties\"][\"UTC Time Observed\"].split(\"T\")[0])\n",
        "end_date = date.fromisoformat(centers[-1][\"properties\"][\"UTC Time Observed\"].split(\"T\")[0])\n",
        "\n",
        "delta = end_date - start_date   # returns timedelta\n",
        "dates = [(start_date + timedelta(days=i)).isoformat() for i in range(delta.days + 1)]\n",
        "\n",
        "date_range = widgets.SelectionRangeSlider(\n",
        "    options=dates,\n",
        "    index=(0, len(dates)-1),\n",
        "    orientation='horizontal',\n",
        "    layout={'width': '300px'},\n",
        "    style={'description_width': 'initial'},\n",
        "    readout=False\n",
        ")\n",
        "\n",
        "start_label = widgets.Label(date_range.value[0])\n",
        "end_label = widgets.Label(date_range.value[-1])\n",
        "\n",
        "def filter_by_time(item, start, end):\n",
        "    t = item[\"properties\"][\"UTC Time Observed\"]\n",
        "    return t > start and t < end\n",
        "\n",
        "def filter_data(start, end):\n",
        "    global outlines\n",
        "    global centers\n",
        "    \n",
        "    func = lambda x: filter_by_time(x, start, end)\n",
        "    pins.data = {\"features\": list(filter(func, centers))}\n",
        "    polygons.data = {\"features\": list(filter(func, outlines))}\n",
        "    \n",
        "def dts_callback(dts):\n",
        "    start = dts[0]\n",
        "    end = dts[1]\n",
        "    start_label.value = start\n",
        "    end_label.value = end\n",
        "    filter_data(start, end)\n",
        "\n",
        "widgets.interactive_output(dts_callback, {\"dts\": date_range})\n",
        "\n",
        "date_range_widget = widgets.HBox([start_label, date_range, end_label])\n",
        "\n",
        "m.add(polygons)\n",
        "m.add(pins)\n",
        "m.add(WidgetControl(widget=out, position=\"bottomleft\"))\n",
        "m.add(WidgetControl(widget=date_range_widget, position=\"topright\"))\n",
        "m.add(WidgetControl(widget=colorbar_widget, position=\"topright\", transparent_bg=True))\n",
        "m.add(WidgetControl(widget=position_label, position=\"bottomright\", transparent_bg=True))\n",
        "m.add(ScaleControl(position='bottomright'))\n",
        "\n",
        "@out.capture(clear_output=True)\n",
        "def display_properties(feature):\n",
        "    import pandas as pd\n",
        "    \n",
        "    p = {k: v for k, v in feature[\"properties\"].items() if k not in [\"style\"]}\n",
        "    display(pd.Series(p))\n",
        "        \n",
        "@colorbar_widget.capture(clear_output=True)\n",
        "def create_colorbar():\n",
        "    import matplotlib.pyplot as plt\n",
        "    import matplotlib as mpl\n",
        "    \n",
        "    colorbar_fig, ax = plt.subplots(figsize=(6, 1));\n",
        "    colorbar_fig.subplots_adjust(bottom=0.5);\n",
        "\n",
        "    cb = mpl.colorbar.ColorbarBase(\n",
        "        ax, \n",
        "        cmap=mpl.cm.plasma,\n",
        "        norm=mpl.colors.Normalize(vmin=VMIN, vmax=VMAX),\n",
        "        orientation='horizontal'\n",
        "    );\n",
        "    cb.set_label('Plume Concentration (ppm m)');\n",
        "    display(colorbar_fig)\n",
        "    \n",
        "def add_raster(feature):\n",
        "    global item_ids\n",
        "    global m\n",
        "    \n",
        "    props = feature[\"properties\"]\n",
        "\n",
        "    collection = \"nasa-jpl-plumes-emissions-updated\"\n",
        "    assets = \"ch4-plume-emissions\"\n",
        "\n",
        "    if feature[\"id\"] not in IDS_ON_MAP:\n",
        "        from shapely.geometry import shape\n",
        "        \n",
        "        subset = [i for i in item_ids if i[\"id\"].startswith(props[\"Scene FID\"])]\n",
        "        outline_shape = shape(outlines[int(feature[\"id\"])][\"geometry\"])\n",
        "\n",
        "        for item in subset:\n",
        "            if shape(item[\"geometry\"]).intersects(outline_shape):\n",
        "                TILE_URL = (\n",
        "                    'https://dev.ghg.center/api/raster/stac/tiles/WebMercatorQuad/{z}/{x}/{y}@1x'\n",
        "                    f'?collection={collection}&item={item[\"id\"]}&assets={assets}'\n",
        "                    f'&resampling=bilinear&bidx=1&colormap_name=plasma&rescale={VMIN}%2C{VMAX}&nodata=-9999'\n",
        "                )\n",
        "                m.add_layer(TileLayer(url=TILE_URL, max_zoom=24, show_loading=True))\n",
        "        IDS_ON_MAP.add(feature[\"id\"])\n",
        "        \n",
        "    if len(IDS_ON_MAP) == 1:\n",
        "        create_colorbar()\n",
        "\n",
        "    if m.zoom < 12:\n",
        "        m.center = (props['Latitude of max concentration'], props['Longitude of max concentration'])\n",
        "        m.zoom = 12\n",
        "    \n",
        "def set_date_range(feature):\n",
        "    global date_range\n",
        "    props = feature[\"properties\"]\n",
        "    \n",
        "    t = date.fromisoformat(props[\"UTC Time Observed\"].split(\"T\")[0])\n",
        "    date_range.value = ((t - timedelta(days=1)).isoformat(), (t + timedelta(days=1)).isoformat())\n",
        "\n",
        "def on_click(event, feature, **kwargs):\n",
        "    display_properties(feature)\n",
        "    add_raster(feature)\n",
        "    set_date_range(feature)\n",
        "\n",
        "\n",
        "polygons.on_click(on_click)\n",
        "pins.on_click(on_click)\n",
        "m"
      ]
    },
    {
      "cell_type": "markdown",
      "metadata": {},
      "source": [
        "⚠️ This visualization was created using a [jupyterlite-pyodide-kernel](https://github.com/jupyterlite/pyodide-kernel) and [voici](https://voici.readthedocs.io/en/latest/). It is rendered client-side (in your browser!) via the magic of [Wasm](https://webassembly.org/). This is an exciting and rapidly evolving space which means that this visualization is highly experimental and likely to break. ⚠️"
      ]
    }
  ],
  "metadata": {
    "kernelspec": {
      "display_name": "voici",
      "language": "python",
      "name": "python3"
    },
    "language_info": {
      "codemirror_mode": {
        "name": "ipython",
        "version": 3
      },
      "file_extension": ".py",
      "mimetype": "text/x-python",
      "name": "python",
      "nbconvert_exporter": "python",
      "pygments_lexer": "ipython3",
      "version": "3.10.12"
    }
  },
  "nbformat": 4,
  "nbformat_minor": 4
}
