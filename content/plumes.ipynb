{
  "metadata": {
    "language_info": {
      "codemirror_mode": {
        "name": "python",
        "version": 3
      },
      "file_extension": ".py",
      "mimetype": "text/x-python",
      "name": "python",
      "nbconvert_exporter": "python",
      "pygments_lexer": "ipython3",
      "version": "3.8"
    },
    "kernelspec": {
      "name": "python",
      "display_name": "Python (Pyodide)",
      "language": "python"
    }
  },
  "nbformat_minor": 4,
  "nbformat": 4,
  "cells": [
    {
      "cell_type": "code",
      "source": "%pip install -q ipyleaflet==0.17.3 ipywidgets==8.0.6 jupyterlab_widgets==3.0.7",
      "metadata": {
        "trusted": true
      },
      "execution_count": 1,
      "outputs": []
    },
    {
      "cell_type": "markdown",
      "source": "# Emission Plumes",
      "metadata": {}
    },
    {
      "cell_type": "code",
      "source": "import json\n\nimport pandas as pd\nimport geopandas as gpd\nimport ipywidgets as widgets\nimport matplotlib.pyplot as plt\nimport matplotlib as mpl\n\nfrom ipyleaflet import Map, TileLayer, GeoData, WidgetControl, LayersControl",
      "metadata": {
        "trusted": true
      },
      "execution_count": 2,
      "outputs": []
    },
    {
      "cell_type": "code",
      "source": "try:\n    from js import fetch\n\n    async def fetch_json(url):\n        response = await fetch(url)\n        text = await response.text()\n        return json.loads(text)\nexcept: \n    import requests\n\n    async def fetch_json(url):\n        return requests.get(url).json()",
      "metadata": {
        "trusted": true
      },
      "execution_count": 3,
      "outputs": []
    },
    {
      "cell_type": "code",
      "source": "# Download using this URL, then upload to GIST for easy access\nGDRIVE_ID = \"1f9HCtAOUiSDTiesbJrt8E9Oi9wr6e8XT\"\nDOWNLOAD_URL = f\"https://drive.google.com/uc?{GDRIVE_ID}=&export=download\"\n\nGIST_URL = \"https://gist.githubusercontent.com/jsignell/53f6f211a17c2d01a8546e292d800c8a/raw/6de1c6555e9dfb5f127f81ff03603373c1fc52cd/gistfile1.txt\"\n\nresult = await fetch_json(GIST_URL)\ndf = gpd.GeoDataFrame.from_features(result[\"features\"])\n\noutlines = df[df.geom_type == \"Polygon\"].reset_index(drop=True)\ncenters = df[df.geom_type == \"Point\"].reset_index(drop=True)",
      "metadata": {
        "trusted": true
      },
      "execution_count": 4,
      "outputs": []
    },
    {
      "cell_type": "code",
      "source": "# Get the ids for every item in the STAC collection\nSTAC_SEARCH_URL = \"https://dev.ghg.center/api/stac/search?collections=nasa-jpl-plumes-emissions-updated&fields=id,geometry,properties&limit=1000\"\n\nresult = await fetch_json(STAC_SEARCH_URL)",
      "metadata": {
        "trusted": true
      },
      "execution_count": 5,
      "outputs": []
    },
    {
      "cell_type": "code",
      "source": "# Workaround for https://github.com/geopandas/geopandas/issues/1208\ndef move_id_into_props(f):\n    f[\"properties\"][\"id\"] = f[\"id\"] \n    return f\n\nresult[\"features\"] = list(map(move_id_into_props, result[\"features\"]))\nitem_ids = gpd.GeoDataFrame.from_features(result[\"features\"])",
      "metadata": {
        "trusted": true
      },
      "execution_count": 6,
      "outputs": []
    },
    {
      "cell_type": "code",
      "source": "VMAX = 1500\nIDS_ON_MAP = set()\n\nm = Map(center=(0, 0), zoom=2, scroll_wheel_zoom=True)\nm.layout.min_height=\"800px\"\n\npolygons = GeoData(\n    geo_dataframe=outlines, \n    name='outlines',\n    style={\"color\": \"red\"},\n    hover_style={'fillColor': 'red', \"fillOpacity\": 0.5},\n)\n\npins = GeoData(\n    geo_dataframe=centers, \n    name='centers',\n)\n\nout = widgets.Output(layout=widgets.Layout(width=\"700px\"))\ncolorbar_widget = widgets.Output(layout=widgets.Layout(width=\"450px\"))\nvmax_fixed = widgets.Checkbox(\n    description=f\"Fix max value of colorbar to {VMAX} (ppm m). Click plume again to update.\", \n    style={'description_width': 'initial'},\n    layout=widgets.Layout(width=\"450px\")\n)\n\n# create date range slider and callback for filtering data\nstart_date = outlines[\"UTC Time Observed\"].min().split(\"T\")[0]\nend_date = outlines[\"UTC Time Observed\"].max().split(\"T\")[0]\n\ndates = [d.date().isoformat() for d in pd.date_range(start_date, end_date, freq='D')]\ndate_range = widgets.SelectionRangeSlider(\n    options=dates,\n    index=(0, len(dates)-1),\n    orientation='horizontal',\n    layout={'width': '300px'},\n    style={'description_width': 'initial'},\n    readout=False\n)\n\nstart_label = widgets.Label(start_date)\nend_label = widgets.Label(end_date)\n\ndef filter_data(start, end):\n    global outlines\n    global centers\n    \n    index = (centers[\"UTC Time Observed\"] > start) & (centers[\"UTC Time Observed\"] < end)\n    pins.data = json.loads(centers[index].to_json())\n    polygons.data = json.loads(outlines[index].to_json())\n    \ndef dts_callback(dts):\n    start = dts[0]\n    end = dts[1]\n    start_label.value = start\n    end_label.value = end\n    filter_data(start, end)\n\nwidgets.interactive_output(dts_callback, {\"dts\": date_range})\n\ndate_range_widget = widgets.HBox([start_label, date_range, end_label])\n\nm.add(polygons)\nm.add(pins)\nm.add(WidgetControl(widget=out, position=\"bottomleft\"))\nm.add(WidgetControl(widget=date_range_widget, position=\"topright\"))\nm.add(WidgetControl(widget=colorbar_widget, position=\"topright\"))\nm.add(WidgetControl(widget=vmax_fixed, position=\"topright\"))\n\n@out.capture(clear_output=True)\ndef display_properties(feature):\n    p = {k: v for k, v in feature[\"properties\"].items() if k not in [\"style\"]}\n    display(pd.Series(p))\n        \n@colorbar_widget.capture(clear_output=True)\ndef create_colorbar(vmin=0, vmax=VMAX):\n    colorbar_fig, ax = plt.subplots(figsize=(6, 1));\n    colorbar_fig.subplots_adjust(bottom=0.5);\n\n    cb = mpl.colorbar.ColorbarBase(\n        ax, \n        cmap=mpl.cm.plasma,\n        norm=mpl.colors.Normalize(vmin=vmin, vmax=vmax),\n        orientation='horizontal'\n    );\n    cb.set_label('Plume Concentration (ppm m)');\n    display(colorbar_fig)\n    \ndef add_raster(feature):\n    global item_ids\n    global m\n    \n    props = feature[\"properties\"]\n\n    collection = \"nasa-jpl-plumes-emissions-updated\"\n    assets = \"ch4-plume-emissions\"\n    vmin = 0\n    vmax = VMAX if vmax_fixed.value else round(props[\"Max Plume Concentration (ppm m)\"], -2)  # closest hundreds place\n    \n    if feature[\"id\"] not in IDS_ON_MAP:\n        subset = item_ids[item_ids.id.str.startswith(props[\"Scene FID\"])]\n        outline_shape = outlines.iloc[int(feature[\"id\"])].geometry\n        subset = subset[subset.intersects(outline_shape)]\n\n        for item in subset.id:\n            TILE_URL = (\n                'https://dev.ghg.center/api/raster/stac/tiles/WebMercatorQuad/{z}/{x}/{y}@1x'\n                f'?collection={collection}&item={item}&assets={assets}'\n                f'&resampling=bilinear&bidx=1&colormap_name=plasma&rescale={vmin}%2C{vmax}&nodata=-9999'\n            )\n            m.add_layer(TileLayer(url=TILE_URL, max_zoom=24, show_loading=True))\n        IDS_ON_MAP.add(feature[\"id\"])\n    \n    create_colorbar(vmin, vmax)\n    m.center = (props['Latitude of max concentration'], props['Longitude of max concentration'])\n    m.zoom = 12\n    \ndef set_date_range(feature):\n    global date_range\n    \n    props = feature[\"properties\"]\n    \n    t = pd.Timestamp(props[\"UTC Time Observed\"])\n    date_range.value = ((t - pd.Timedelta(\"1D\")).date().isoformat(), (t + pd.Timedelta(\"1D\")).date().isoformat())\n\ndef on_click(event, feature, **kwargs):\n    display_properties(feature)\n    add_raster(feature)\n    set_date_range(feature)\n    \ndef update_vmax(event):\n    IDS_ON_MAP.clear()\n\nvmax_fixed.observe(update_vmax, names=[\"value\"])\n\npolygons.on_click(on_click)\npins.on_click(on_click)\nm",
      "metadata": {
        "trusted": true
      },
      "execution_count": 7,
      "outputs": [
        {
          "execution_count": 7,
          "output_type": "execute_result",
          "data": {
            "text/plain": "Map(center=[0, 0], controls=(ZoomControl(options=['position', 'zoom_in_text', 'zoom_in_title', 'zoom_out_text'…",
            "application/vnd.jupyter.widget-view+json": {
              "version_major": 2,
              "version_minor": 0,
              "model_id": "3f803fd504824f54bf78f41301d8d808"
            }
          },
          "metadata": {}
        }
      ]
    },
    {
      "cell_type": "markdown",
      "source": "⚠️ This visualization was created using a [jupyterlite-pyodide-kernel](https://github.com/jupyterlite/pyodide-kernel) and [voici](https://voici.readthedocs.io/en/latest/). It is rendered client-side (in your browser!) via the magic of [Wasm](https://webassembly.org/). This is an exciting and rapidly evolving space which means that this visualization is highly experimental and likely to break. ⚠️",
      "metadata": {}
    }
  ]
}